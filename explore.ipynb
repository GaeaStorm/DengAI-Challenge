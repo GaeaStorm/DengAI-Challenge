{
 "cells": [
  {
   "cell_type": "code",
   "execution_count": 3,
   "metadata": {},
   "outputs": [
    {
     "name": "stdout",
     "output_type": "stream",
     "text": [
      "Dengue Features Train shape: (1456, 24)\n",
      "Dengue Features Test shape: (416, 24)\n",
      "Dengue Labels Train shape: (1456, 4)\n"
     ]
    }
   ],
   "source": [
    "import matplotlib.pyplot as plt\n",
    "import numpy as np\n",
    "import pandas as pd\n",
    "\n",
    "%matplotlib inline\n",
    "plt.rcParams['figure.figsize']= (15,10)\n",
    "\n",
    "dengue_train = pd.read_csv('./data/dengue_features_train.csv')\n",
    "dengue_test = pd.read_csv('./data/dengue_features_test.csv')\n",
    "dengue_labels_train = pd.read_csv('./data/dengue_labels_train.csv')\n",
    "\n",
    "print(\"Dengue Features Train shape:\", dengue_train.shape)\n",
    "print(\"Dengue Features Test shape:\", dengue_test.shape)\n",
    "print(\"Dengue Labels Train shape:\", dengue_labels_train.shape)"
   ]
  },
  {
   "cell_type": "markdown",
   "metadata": {},
   "source": [
    "## Dengue Features Dataset\n",
    "This describes the factors of climate and vegetation during the training period.\n",
    "- city: City abbreviations: sj for San Juan and iq for Iquitos\n",
    "- week_start_date: Date given in yyyy-mm-dd format\n",
    "- weekofyear: The number of week of the year\n",
    "- year: The year in yyyy format\n",
    "\n",
    "- station_max_temp_c: Maximum temperature\n",
    "- station_min_temp_c: Minimum temperature\n",
    "- station_avg_temp_c: Average temperature\n",
    "- station_precip_mm: Total precipitation\n",
    "- station_diur_temp_rng_c: Diurnal temperature range\n",
    "\n",
    "- precipitation_amt_mm: Total precipitation\n",
    "\n",
    "- reanalysis_sat_precip_amt_mm: Total precipitation\n",
    "- reanalysis_dew_point_temp_k: Mean dew point temperature\n",
    "- reanalysis_air_temp_k: Mean air temperature\n",
    "- reanalysis_relative_humidity_percent: Mean relative humidity\n",
    "- reanalysis_specific_humidity_g_per_kg: Mean specific humidity\n",
    "- reanalysis_precip_amt_kg_per_m2: Total precipitation\n",
    "- reanalysis_max_air_temp_k: Maximum air temperature\n",
    "- reanalysis_min_air_temp_k: Minimum air temperature\n",
    "- reanalysis_avg_temp_k: Average air temperature\n",
    "- reanalysis_tdtr_k: Diurnal temperature range\n",
    "\n",
    "- nvdi_se: Pixel southeast of city centroid\n",
    "- nvdi_sw: Pixel southwest of city centroid\n",
    "- nvdi_ne: Pixel northeast of city centroid\n",
    "- nvdi_nw: Pixel northwest of city centroid"
   ]
  },
  {
   "cell_type": "markdown",
   "metadata": {},
   "source": [
    "## Dengue Labels Dataset\n",
    "This describes the factors of climate and vegetation during the training period.\n",
    "- city: City abbreviations: sj for San Juan and iq for Iquitos\n",
    "- year: The year in yyyy format\n",
    "- weekofyear: The number of week of the year\n",
    "- total_cases: The total number of cases active in that city for the week and year."
   ]
  },
  {
   "cell_type": "code",
   "execution_count": null,
   "metadata": {},
   "outputs": [],
   "source": []
  },
  {
   "cell_type": "code",
   "execution_count": null,
   "metadata": {},
   "outputs": [],
   "source": []
  }
 ],
 "metadata": {
  "kernelspec": {
   "display_name": "Python 3",
   "language": "python",
   "name": "python3"
  },
  "language_info": {
   "codemirror_mode": {
    "name": "ipython",
    "version": 3
   },
   "file_extension": ".py",
   "mimetype": "text/x-python",
   "name": "python",
   "nbconvert_exporter": "python",
   "pygments_lexer": "ipython3",
   "version": "3.7.3"
  }
 },
 "nbformat": 4,
 "nbformat_minor": 2
}
